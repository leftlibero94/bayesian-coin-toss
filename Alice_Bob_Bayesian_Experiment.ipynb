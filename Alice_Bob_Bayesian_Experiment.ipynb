{
 "cells": [
  {
   "cell_type": "code",
   "execution_count": 1,
   "metadata": {},
   "outputs": [],
   "source": [
    "import numpy as np\n",
    "from numpy.random import random, choice\n",
    "from math import factorial\n",
    "from scipy.special import gamma\n",
    "import matplotlib.pyplot as plt\n",
    "%matplotlib inline"
   ]
  },
  {
   "cell_type": "markdown",
   "metadata": {},
   "source": [
    "### An Analysis of Thomas Bayes' ball-rolling thought-experiment {-}\n",
    "\n",
    "The following thought experiment is adapted from Section II of Thomas Bayes' seminal 1763 paper,  [\"An Essay towards solving a Problem in the Doctrine of Chances\"](https://web.archive.org/web/20110410085940/http://www.stat.ucla.edu/history/essay.pdf). I have used the modern treatment of the problem given by Prof. Sean R. Eddy in [\"What is Bayesian Statistics?\", Nature Biotechnology volume 22, pages1177–1178(2004)](https://www.nature.com/articles/nbt0904-1177).\n",
    "\n",
    "Alice and Bob are playing a game in which the first person to get 6 points wins. The way each point is decided is a little strange. The Casino has a pool table that Alice and Bob can’t see. Before the game begins, the Casino rolls an initial ball onto the table, which comes to rest at a completely random position, which the Casino marks. Then, each point is decided by\n",
    "the Casino rolling another ball onto the table randomly. If it comes to rest to the left of the initial mark, Alice wins the point; to the right of the mark, Bob wins the point. The Casino reveals nothing to Alice and Bob except who won each point.\n",
    "\n",
    "Clearly, the probability that Alice wins a point is the fraction of the table to the left of the mark—call this probability p; and Bob’s probability of winning a point is 1 – p. Because the Casino rolled the initial ball to a random position, before any points were decided every value of p was equally probable. **The mark is only set once per game**, so p is the same for every point (in a particular game).\n",
    "\n",
    "Say, after $8$ rolls of any particular game, we end up with a situation $A:B=5:3$. Given this information, and only this information (we do not know $p$), what is the likelihood that Bob wins this game? Bayesian analysis tells us the probability is roughly $1/11$, whereas Alice winning has a probability $10/11$ - the ratio of $A:B$ probabilities is therefore $10$. Let us verify this by actually running a large number of trials, discarding those that do not end up at $5:3$ after $8$ rolls, and of those that do, let us analyse how often Alice or Bob actually win. "
   ]
  },
  {
   "cell_type": "code",
   "execution_count": 2,
   "metadata": {},
   "outputs": [
    {
     "name": "stdout",
     "output_type": "stream",
     "text": [
      "After 100000 total experiments, we ended up with 11376 trials where Alice:Bob=5:3 after 8 rolls.\n",
      "Following this, Alice wins 10282 times and Bob wins 1094 times.\n",
      "Their ratio is 9.39853747714808 while the theoretical Bayesian prediction would be 10.\n"
     ]
    }
   ],
   "source": [
    "N=100000\n",
    "Actr, Bctr, Bexps= 0, 0, 0   \n",
    "#Actr counts no. of Alice wins, Bctr no. of Bob wins, Bexps no. of games which end up 5:3 to Alice after 8 rolls\n",
    "for i in range(N):\n",
    "    prob=random() #sets up the respective prior probs. of Alice/Bob wins for a particular game\n",
    "    a=np.array([0,1]) #here, let (0,1)==(Bob,Alice) for any particular roll, so 2 Bob and 1 Alice win(s) is denoted 001\n",
    "    x=choice(a,size=8,p=[prob, 1-prob]) #simulating 8 rolls of the dice\n",
    "    if np.sum(x)==5:  #This is only true if the game has ended up 5:3 to Alice, otherwise loop starts again\n",
    "        Bexps+=1\n",
    "        y=choice(a,size=3,p=[prob, 1-prob])\n",
    "        if np.sum(y)==0: #This is only true if, once game is at 5:3 to Alice, Bob wins the next 3 rolls\n",
    "            Bctr+=1\n",
    "        else:\n",
    "            Actr+=1\n",
    "print(\"After\", N, \"total experiments, we ended up with\", Bexps, \"trials where Alice:Bob=5:3 after 8 rolls.\")\n",
    "print(\"Following this, Alice wins\", Actr, \"times and Bob wins\", Bctr, \"times.\")\n",
    "print(\"Their ratio is\", Actr/Bctr, \"while the theoretical Bayesian prediction would be 10.\")"
   ]
  },
  {
   "cell_type": "markdown",
   "metadata": {},
   "source": [
    "As we can see, the simulation turns out close to the Bayesian prediction. However, let us now try something more ambitious. What if at every iteration, the Bayesian probability (for Bob or Alice wins in a particular game) keeps updating after every roll, i.e. at every new input of information? Let us now try to implement this dynamic Bayesian situation. \n",
    "\n",
    "For example, say the prior probabilities of Alice/Bob wins in a roll be fixed for a particular game at $(p,1-p)$. Now let us take the first roll. Say it lands for Alice. Then the probability that Bob wins from this point is the composite probability of him winning the next 6/6 rolls, 6/7 rolls, ...., 6/10 rolls, (all Bernoulli/binomial trials). However, there is a catch - the game lasts, say, 7 rolls and goes to Bob IF AND ONLY IF the winning roll for Bob happens on the 7th roll. Basically if Bob wins the next 6 rolls, then it doesn't get to the 7th roll at all. So we have to assume the $n^{th}$ roll is always for Bob, if Bob is to win in these Bernoulli trials after $n$ rolls. So the probability that Bob wins 6 out of the next 7 rolls is NOT $\\binom{7}{6}p^{7-6}(1-p)^6$, which is the typical binomial formula, but $\\binom{6}{5}p (1-p)^6$ - this is because there can be no distinguishable permutation involving the last roll - it always goes for Bob. So the total probability that Bob wins, after the first roll has gone to Alice is\n",
    "\n",
    "\\begin{equation}\n",
    "    E(B)=\\binom{5}{5} (1-p)^6 p^0 + \\binom{6}{5} (1-p)^6 p^1 + \\binom{7}{5} (1-p)^6 p^2 + \\binom{8}{5} (1-p)^6 p^3 + \\binom{9}{5} (1-p)^6 p^4\n",
    "\\end{equation}\n",
    "\n",
    "We stop just before Alice has a chance to win 5 out of the next 11 tries. We do a similar computation for every roll, until either Alice or Bob get 6 wins. Now we have to generalize/formalize this notion and implement it in a formula.\n",
    "\n",
    "Say at any point during a game, the score stands at Alice$=x$, Bob$=y$. Of course, both $x,y<6$, otherwise the game ends. Let us also assume that for all the rolls during this game, the respective prior probabilities (the quantity whose value we don't actually know in the Bayesian analysis) is $[p, 1-p]$. Let us now try to evaluate the Bayesian likelihood for Bob to eventually get to 6 wins before Alice, and thereby win the game, which is mathematically represented as\n",
    "\n",
    "\\begin{align}\n",
    "    E(B)=\\int_0^1 dp\\, P(B) P(p| A=x, B=y)\n",
    "\\end{align}\n",
    "\n",
    "Here, $P(B)$ is the probability that Bob would win the game, with the score at $x:y$, assuming we knew $p$. To be more explicit, this requires that Bob win $6-y$ rolls before Alice can win $6-x$ rolls. Therefore, the maximum number of rolls that can be allowed before one party, by mathematical default, will win is $11-x-y$.  \n",
    "\n",
    "(**NOTE:** This is the part of the computation that requires the most thought, so let's go over this carefully - the game ends when either Alice or Bob get to $6$. At that point whoever has lost, has $5$ or fewer wins. So the sum of both Alice and Bob wins when the game ends can, AT MOST, be $6+5=11$. This is the same as saying you need at most $11$ rolls to decide a winner in this game. Now that $x+y$ rolls have already happened, the maximum number of rolls left to decide a winner is $11-x-y$.) \n",
    "\n",
    "However, as we have already discussed, you only need to check the next $10-x-y$ rolls out of which Bob has to win $5-y$ rolls - the last roll always goes to Bob if Bob is to win this game. So for Bob to win, he needs to win $5-y$ out of the next $5-y$ rolls, $5-y$ out of the next $5-y+1$ rolls, ... , all the way up to $5-y$ out of the next $10-x-y$ rolls, which can be written as\n",
    "\\begin{align}\n",
    "    P(B)=\\sum_{n=5-y}^{10-x-y} \\binom{n}{5-y}(1-p)^{6-y}p^{n-(5-y)}\n",
    "\\end{align}\n",
    "\n",
    "Now the term $P(p| A=x, B=y)$ term, which is basically the likelihood that the prior probabilities of Alice/Bob wins are $[p,1-p]$, given that we have reached $A:B=x:y$, can be rewritten using the Bayes' theorem as\n",
    "\\begin{align}\n",
    "    P(p|A=x, B=y)=\\frac{P(A=x, B=y|p) P(p)}{\\int_0^1 dp' P(A=x, B=y|p')P(p')}\n",
    "\\end{align}\n",
    "\n",
    "Now we know how to calculate $P(A=x, B=y|p)$, which is simply the likelihood of getting an event $A:B=x:y$ in the first place, assuming we know $p$, and it is given by the binomial formula\n",
    "\\begin{align}\n",
    "    P(A=x, B=y|p) = \\binom{x+y}{x} p^x (1-p)^y\n",
    "\\end{align}\n",
    "\n",
    "We are now in a position to compute the Bayesian likelihood of Bob winning the game, given the information that it has reached the stage $A:B=x:y$, which is\n",
    "\\begin{align}\n",
    "    E(B)&=\\frac{\\int_0^1 dp \\left[\\sum_{n=5-y}^{10-x-y} \\binom{n}{5-y}(1-p)^{6-y}p^{n-(5-y)}\\right]p^x(1-p)^y}{\\int_0^1 dp\\, p^x (1-p)^y}\\\\\n",
    "    &= \\frac{\\int_0^1 dp \\left[\\sum_{n=5-y}^{10-x-y} \\binom{n}{5-y}(1-p)^6 p^{n-(5-x-y)}\\right]}{\\int_0^1 dp\\, p^x (1-p)^y}\n",
    "\\end{align}\n",
    "\n",
    "The prior probabilities $P(p)$ are constant for any particular game and can be factored out and canceled between numerator and denominator. The remaining denominator is a simple enough beta integral which can be written as\n",
    "\\begin{align}\n",
    "    \\int_0^1 dp\\, p^x (1-p)^y &=\\frac{\\Gamma{(x+1)} \\Gamma{(y+1)}}{\\Gamma{(x+y+2)}}\\\\\n",
    "    &=\\frac{x! y!}{(x+y+1)!}\n",
    "\\end{align}\n",
    "For the numerator, the $p$-independent summation can be taken out of the integral, and the whole thing can be written as a summation of beta integrals as follows:\n",
    "\n",
    "\\begin{align}\n",
    "    \\int_0^1 dp \\left[\\sum_{n=5-y}^{10-x-y} \\binom{n}{5-y}(1-p)^{6}p^{n-(5-x-y)}\\right] &=\\sum_{n=5-y}^{10-x-y} \\binom{n}{5-y} \\int_0^1 dp\\, (1-p)^6 p^{n+x+y-5}\\\\\n",
    "    &= \\sum_{n=5-y}^{10-x-y} \\binom{n}{5-y} \\frac{\\Gamma{(7)}\\Gamma{(n+x+y-4)}}{\\Gamma{(n+x+y+3)}}\\\\\n",
    "    &= \\sum_{n=5-y}^{10-x-y} \\binom{n}{5-y} \\frac{6! (n+x+y-5)!}{(n+x+y+2)!}\n",
    "\\end{align}\n",
    "\n",
    "Therefore, if at any point, the game ends up at $A:B=x:y$, then the Bayesian likelihood of Bob winning the game (with 6 points) is\n",
    "\\begin{align}\n",
    "    E(B)&=\\frac{\\sum_{n=5-y}^{10-x-y} \\binom{n}{5-y} \\frac{6! (n+x+y-5)!}{(n+x+y+2)!}}{\\frac{x! y!}{(x+y+1)!}}\\\\\n",
    "    &= \\sum_{n=5-y}^{10-x-y} \\binom{n}{5-y} \\frac{6! (n+x+y-5)! (x+y+1)!}{(n+x+y+2)! x! y!}\\\\\n",
    "    &= \\sum_{n=5-y}^{10-x-y} \\binom{n}{5-y} \\frac{\\binom{x+y}{x}}{\\binom{n+x+y+1}{6}} \\frac{x+y+1}{n+x+y+2}\n",
    "\\end{align}\n",
    "\n",
    "Little messy, but we have a formula! Is it any good? Let's verify for the situation $A:B=5:3$, where we know the Bayesian probability of Bob eventually winning should be $1/11$. What does the general formula tell us? \n",
    "\\begin{align}\n",
    "    E(B)&= \\sum_{n=2}^{2} \\binom{n}{5-y} \\frac{\\binom{x+y}{x}}{\\binom{n+x+y+1}{6}} \\frac{x+y+1}{n+x+y+2}\\\\\n",
    "    &=\\binom{2}{2}\\frac{\\binom{8}{5}}{\\binom{11}{6}}\\frac{9}{12}\\\\\n",
    "    &=\\frac{8\\cdot 7 \\cdot 6}{3\\cdot 2 \\cdot 1} \\cdot \\frac{5\\cdot 4 \\cdot 3 \\cdot 2}{11 \\cdot 10 \\cdot 9 \\cdot 8 \\cdot 7} \\cdot \\frac{9}{12}\\\\\n",
    "    &=\\frac{1}{11}\n",
    "\\end{align}\n",
    "\n",
    "It works! The Bayesian probability for the other possibility (Alice winning) is simply $1-E(B)$, because they are mutually exclusive and exhaustive. "
   ]
  },
  {
   "cell_type": "code",
   "execution_count": 97,
   "metadata": {},
   "outputs": [
    {
     "name": "stdout",
     "output_type": "stream",
     "text": [
      "The value of p for this game was 0.7096204849995658\n",
      "The rolls in the game were (Alice=1, Bob=0): [1 1 0 0 0 0 1 0 1 0]\n",
      "The Bayesian probability for Bob winning varies as  [0.22727273 0.09090909 0.27272727 0.5        0.71645022 0.87878788\n",
      " 0.72727273 0.90909091 0.77272727 1.        ]\n"
     ]
    },
    {
     "data": {
      "image/png": "[encoded data removed]",
      "text/plain": [
       "<Figure size 504x504 with 1 Axes>"
      ]
     },
     "metadata": {
      "needs_background": "light"
     },
     "output_type": "display_data"
    }
   ],
   "source": [
    "def nCr(n,r): return factorial(n)/(factorial(r)*factorial(n-r))  #defining the factorial function\n",
    "def EB(x,y):   #setting up the formula to calculate Bayesian probability of Bob winning after every roll (i.e for new info) \n",
    "    EB=0\n",
    "    if y==6:  #if y=6, Bob has already won, and the Bayesian probability should be 1 - this has to be put in by hand\n",
    "        return (1)\n",
    "    else:\n",
    "        for n in range(5-y, 11-x-y):\n",
    "            EB+=(nCr(n,5-y)*nCr(x+y,x)*(x+y+1))/(nCr(n+x+y+1,6)*(n+x+y+2))\n",
    "        return (EB)\n",
    "prob=random()  #this sets the value of p for the game\n",
    "p=np.array([prob, 1-prob])  \n",
    "a=np.array([0,1])  #Here, Alice=1, Bob=0 for every roll\n",
    "BayProbs=np.array([])  #Empty Array to store and update the values of the Bayesian prob. of Bob winning\n",
    "x=choice(a,size=None,p=p)\n",
    "ctr=1\n",
    "while np.sum(x)<6 and ctr-np.sum(x)<6:\n",
    "    BayProbs=np.append(BayProbs, EB(np.sum(x),ctr-np.sum(x)))\n",
    "    x=np.append(x, choice(a,size=None,p=p))\n",
    "    ctr+=1\n",
    "if np.sum(x)==6:\n",
    "    BayProbs=np.append(BayProbs, 0)\n",
    "if ctr-np.sum(x)==6:\n",
    "    BayProbs=np.append(BayProbs, 1)\n",
    "n=np.arange(1, ctr+1)\n",
    "plt.figure(figsize=(7, 7))\n",
    "ax=plt.axes()\n",
    "ax.set_xticks(n)\n",
    "plt.grid(True)\n",
    "plt.plot(n,BayProbs, 'bo-')\n",
    "plt.title(\"Bayesian Probability for Bob winning\")\n",
    "plt.xlabel(\"Number of Rolls\")\n",
    "plt.ylabel(\"Dynamically Varying Bayesian Probability\")\n",
    "print(\"The value of p for this game was\", prob)\n",
    "print(\"The rolls in the game were (Alice=1, Bob=0):\", x)\n",
    "print(\"The Bayesian probability for Bob winning varies as \", BayProbs)"
   ]
  },
  {
   "cell_type": "markdown",
   "metadata": {},
   "source": [
    "This code (and the formula) can be easily modified for most zero-sum two-player games of chance. "
   ]
  }
 ],
 "metadata": {
  "kernelspec": {
   "display_name": "Python 3",
   "language": "python",
   "name": "python3"
  },
  "language_info": {
   "codemirror_mode": {
    "name": "ipython",
    "version": 3
   },
   "file_extension": ".py",
   "mimetype": "text/x-python",
   "name": "python",
   "nbconvert_exporter": "python",
   "pygments_lexer": "ipython3",
   "version": "3.8.5"
  }
 },
 "nbformat": 4,
 "nbformat_minor": 4
}
